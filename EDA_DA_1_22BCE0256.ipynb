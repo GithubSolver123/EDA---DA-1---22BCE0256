{
  "nbformat": 4,
  "nbformat_minor": 0,
  "metadata": {
    "colab": {
      "provenance": [],
      "authorship_tag": "ABX9TyMcRDPOqTmBuiodnQbTMr3T",
      "include_colab_link": true
    },
    "kernelspec": {
      "name": "python3",
      "display_name": "Python 3"
    },
    "language_info": {
      "name": "python"
    }
  },
  "cells": [
    {
      "cell_type": "markdown",
      "metadata": {
        "id": "view-in-github",
        "colab_type": "text"
      },
      "source": [
        "<a href=\"https://colab.research.google.com/github/GithubSolver123/EDA---DA-1---22BCE0256/blob/main/EDA_DA_1_22BCE0256.ipynb\" target=\"_parent\"><img src=\"https://colab.research.google.com/assets/colab-badge.svg\" alt=\"Open In Colab\"/></a>"
      ]
    },
    {
      "cell_type": "markdown",
      "source": [
        "### **Import all the required libraries**"
      ],
      "metadata": {
        "id": "AzwTE-YDI9YH"
      }
    },
    {
      "cell_type": "code",
      "source": [
        "import pandas as pd\n",
        "import numpy as np\n",
        "import matplotlib.pyplot as plt\n",
        "import seaborn as sns\n",
        "\n",
        "%matplotlib inline"
      ],
      "metadata": {
        "id": "JynGVYNFIwKn"
      },
      "execution_count": 1,
      "outputs": []
    },
    {
      "cell_type": "markdown",
      "source": [
        "### **Load the given Dataset**"
      ],
      "metadata": {
        "id": "NrjmuLKGJEJ5"
      }
    },
    {
      "cell_type": "code",
      "execution_count": 2,
      "metadata": {
        "id": "1NnQl-yGIGpZ"
      },
      "outputs": [],
      "source": [
        "url = \"https://raw.githubusercontent.com/salemprakash/EDA/main/Data/school93_98.csv\"\n",
        "\n",
        "df = pd.read_csv(url)"
      ]
    },
    {
      "cell_type": "markdown",
      "source": [
        "### **Dimensions of the dataset**"
      ],
      "metadata": {
        "id": "AEKX5GjyNSwh"
      }
    },
    {
      "cell_type": "code",
      "source": [
        "dimensions = df.shape\n",
        "\n",
        "print(\"Dataset Dimensions:\", dimensions)"
      ],
      "metadata": {
        "id": "F0D5zuFGKGid",
        "colab": {
          "base_uri": "https://localhost:8080/"
        },
        "outputId": "d66fca27-9004-49ed-d577-363f698e0880"
      },
      "execution_count": 3,
      "outputs": [
        {
          "output_type": "stream",
          "name": "stdout",
          "text": [
            "Dataset Dimensions: (10668, 19)\n"
          ]
        }
      ]
    },
    {
      "cell_type": "markdown",
      "source": [
        "### **Summary of the dataset**"
      ],
      "metadata": {
        "id": "DUyZ0dn_Ng1L"
      }
    },
    {
      "cell_type": "code",
      "source": [
        "# Column names of the dataset\n",
        "\n",
        "print(df.columns)"
      ],
      "metadata": {
        "colab": {
          "base_uri": "https://localhost:8080/"
        },
        "id": "6bpQChwBSY9d",
        "outputId": "0040a33a-34a9-40f6-dc8c-956bde62b242"
      },
      "execution_count": 4,
      "outputs": [
        {
          "output_type": "stream",
          "name": "stdout",
          "text": [
            "Index(['rownames', 'distid', 'schid', 'lunch', 'enrol', 'exppp', 'math4',\n",
            "       'year', 'y93', 'y94', 'y95', 'y96', 'y97', 'y98', 'rexpp', 'found',\n",
            "       'lenrol', 'lrexpp', 'lavgrexpp'],\n",
            "      dtype='object')\n"
          ]
        }
      ]
    },
    {
      "cell_type": "code",
      "source": [
        "# General overview of the dataset\n",
        "\n",
        "df.info()"
      ],
      "metadata": {
        "id": "JlS7xvmSNgcX",
        "colab": {
          "base_uri": "https://localhost:8080/"
        },
        "outputId": "0d515025-3084-4f51-e731-4d96a634ee52"
      },
      "execution_count": 5,
      "outputs": [
        {
          "output_type": "stream",
          "name": "stdout",
          "text": [
            "<class 'pandas.core.frame.DataFrame'>\n",
            "RangeIndex: 10668 entries, 0 to 10667\n",
            "Data columns (total 19 columns):\n",
            " #   Column     Non-Null Count  Dtype  \n",
            "---  ------     --------------  -----  \n",
            " 0   rownames   10668 non-null  int64  \n",
            " 1   distid     10668 non-null  int64  \n",
            " 2   schid      10668 non-null  int64  \n",
            " 3   lunch      10365 non-null  float64\n",
            " 4   enrol      10499 non-null  float64\n",
            " 5   exppp      9731 non-null   float64\n",
            " 6   math4      10565 non-null  float64\n",
            " 7   year       10668 non-null  int64  \n",
            " 8   y93        10668 non-null  int64  \n",
            " 9   y94        10668 non-null  int64  \n",
            " 10  y95        10668 non-null  int64  \n",
            " 11  y96        10668 non-null  int64  \n",
            " 12  y97        10668 non-null  int64  \n",
            " 13  y98        10668 non-null  int64  \n",
            " 14  rexpp      9731 non-null   float64\n",
            " 15  found      7112 non-null   float64\n",
            " 16  lenrol     10499 non-null  float64\n",
            " 17  lrexpp     9731 non-null   float64\n",
            " 18  lavgrexpp  7517 non-null   float64\n",
            "dtypes: float64(9), int64(10)\n",
            "memory usage: 1.5 MB\n"
          ]
        }
      ]
    },
    {
      "cell_type": "code",
      "source": [
        "# Descriptive statistics of the dataset\n",
        "\n",
        "print(df.describe(include = \"all\"))"
      ],
      "metadata": {
        "colab": {
          "base_uri": "https://localhost:8080/"
        },
        "id": "QbuVTLtOSEFR",
        "outputId": "3cd9a04f-98be-45b5-c42b-8cc26fabd8ba"
      },
      "execution_count": 6,
      "outputs": [
        {
          "output_type": "stream",
          "name": "stdout",
          "text": [
            "          rownames        distid         schid         lunch         enrol  \\\n",
            "count  10668.00000  10668.000000  10668.000000  10365.000000  10499.000000   \n",
            "mean    5334.50000  52873.061305   2963.074803     37.384330    417.613963   \n",
            "std     3079.73067  23938.765714   2009.157208     25.347934    166.694982   \n",
            "min        1.00000   1010.000000      1.000000      0.000000      7.000000   \n",
            "25%     2667.75000  33070.000000   1306.000000     16.360001    307.000000   \n",
            "50%     5334.50000  56010.000000   2562.500000     33.330002    405.000000   \n",
            "75%     8001.25000  75100.000000   4421.000000     54.169998    507.000000   \n",
            "max    10668.00000  83070.000000   7725.000000    100.000000   1353.000000   \n",
            "\n",
            "              exppp         math4          year           y93           y94  \\\n",
            "count   9731.000000  10565.000000  10668.000000  10668.000000  10668.000000   \n",
            "mean    3778.583702     58.445348   1995.500000      0.166667      0.166667   \n",
            "std      923.798238     21.651211      1.707905      0.372695      0.372695   \n",
            "min      254.000000      1.800000   1993.000000      0.000000      0.000000   \n",
            "25%     3155.500000     43.200001   1994.000000      0.000000      0.000000   \n",
            "50%     3737.000000     59.799999   1995.500000      0.000000      0.000000   \n",
            "75%     4278.500000     75.000000   1997.000000      0.000000      0.000000   \n",
            "max    13581.000000    100.000000   1998.000000      1.000000      1.000000   \n",
            "\n",
            "                y95           y96           y97           y98         rexpp  \\\n",
            "count  10668.000000  10668.000000  10668.000000  10668.000000   9731.000000   \n",
            "mean       0.166667      0.166667      0.166667      0.166667   3899.637674   \n",
            "std        0.372695      0.372695      0.372695      0.372695    879.111231   \n",
            "min        0.000000      0.000000      0.000000      0.000000    282.124542   \n",
            "25%        0.000000      0.000000      0.000000      0.000000   3325.719849   \n",
            "50%        0.000000      0.000000      0.000000      0.000000   3823.120850   \n",
            "75%        0.000000      0.000000      0.000000      0.000000   4352.629395   \n",
            "max        1.000000      1.000000      1.000000      1.000000  14708.167969   \n",
            "\n",
            "              found        lenrol       lrexpp    lavgrexpp  \n",
            "count   7112.000000  10499.000000  9731.000000  7517.000000  \n",
            "mean    5829.744094      5.940707     8.244704     8.263581  \n",
            "std     1054.895417      0.480836     0.218641     0.191407  \n",
            "min     4200.000000      1.945910     5.642349     7.404839  \n",
            "25%     5203.000000      5.726848     8.109442     8.142113  \n",
            "50%     5587.000000      6.003887     8.248822     8.259392  \n",
            "75%     6060.000000      6.228511     8.378535     8.378363  \n",
            "max    10916.000000      7.210080     9.596158     9.397722  \n"
          ]
        }
      ]
    },
    {
      "cell_type": "code",
      "source": [
        "# First and Last few rows\n",
        "\n",
        "print(\"\\n\\n\\n--> First 5 rows: \\n\")\n",
        "print(df.head())\n",
        "\n",
        "print(\"\\n\\n\\n--> Last 5 rows: \\n\")\n",
        "print(df.tail())"
      ],
      "metadata": {
        "id": "1MYnKb8OSMw2",
        "colab": {
          "base_uri": "https://localhost:8080/"
        },
        "outputId": "60484866-8270-4c51-b9b0-13072fe556f1"
      },
      "execution_count": 7,
      "outputs": [
        {
          "output_type": "stream",
          "name": "stdout",
          "text": [
            "\n",
            "\n",
            "\n",
            "--> First 5 rows: \n",
            "\n",
            "   rownames  distid  schid      lunch  enrol   exppp      math4  year  y93  \\\n",
            "0         1   34010      1  39.799999  256.0  2506.0  46.599998  1993    1   \n",
            "1         2   34010      1  35.000000  248.0  2870.0  44.700001  1994    0   \n",
            "2         3   34010      1  36.590000  244.0  4176.0  86.500000  1995    0   \n",
            "3         4   34010      1  40.549999  247.0  4333.0  84.300003  1996    0   \n",
            "4         5   34010      1  49.490002  291.0  3666.0  83.800003  1997    0   \n",
            "\n",
            "   y94  y95  y96  y97  y98        rexpp   found    lenrol    lrexpp  lavgrexpp  \n",
            "0    0    0    0    0    0  2783.480957     NaN  5.545177  7.931458        NaN  \n",
            "1    1    0    0    0    0  3108.198486     NaN  5.513429  8.041799   7.988149  \n",
            "2    0    1    0    0    0  4397.953125  4478.0  5.497168  8.388894   8.230331  \n",
            "3    0    0    1    0    0  4432.418945  4754.0  5.509388  8.396701   8.392805  \n",
            "4    0    0    0    1    0  3666.000000  5032.0  5.673323  8.206857   8.306277  \n",
            "\n",
            "\n",
            "\n",
            "--> Last 5 rows: \n",
            "\n",
            "       rownames  distid  schid  lunch  enrol  exppp      math4  year  y93  \\\n",
            "10663     10664   63200   7725    NaN  137.0    NaN  72.000000  1994    0   \n",
            "10664     10665   63200   7725    NaN  135.0    NaN  62.500000  1995    0   \n",
            "10665     10666   63200   7725    NaN  124.0    NaN  63.200001  1996    0   \n",
            "10666     10667   63200   7725    NaN  129.0    NaN  78.900002  1997    0   \n",
            "10667     10668   63200   7725    0.0  132.0    NaN  87.000000  1998    0   \n",
            "\n",
            "       y94  y95  y96  y97  y98  rexpp   found    lenrol  lrexpp  lavgrexpp  \n",
            "10663    1    0    0    0    0    NaN     NaN  4.919981     NaN        NaN  \n",
            "10664    0    1    0    0    0    NaN  8567.0  4.905275     NaN        NaN  \n",
            "10665    0    0    1    0    0    NaN  8720.0  4.820282     NaN        NaN  \n",
            "10666    0    0    0    1    0    NaN  8875.0  4.859812     NaN        NaN  \n",
            "10667    0    0    0    0    1    NaN  9029.0  4.882802     NaN        NaN  \n"
          ]
        }
      ]
    },
    {
      "cell_type": "markdown",
      "source": [
        "### **Set the first column as index**"
      ],
      "metadata": {
        "id": "D3ymZSjcQFPY"
      }
    },
    {
      "cell_type": "code",
      "source": [
        "df.set_index('rownames', inplace = True)"
      ],
      "metadata": {
        "id": "ep95t8uLQE8P"
      },
      "execution_count": 8,
      "outputs": []
    },
    {
      "cell_type": "markdown",
      "source": [
        "### **Handling Missing Data**"
      ],
      "metadata": {
        "id": "JnA6zpJxPDXr"
      }
    },
    {
      "cell_type": "code",
      "source": [
        "# Count of missing values per column\n",
        "print(\"--> Count of missing values per column: \\n\")\n",
        "print(df.isnull().sum())"
      ],
      "metadata": {
        "id": "HYBhPiMbPCr3",
        "colab": {
          "base_uri": "https://localhost:8080/"
        },
        "outputId": "92ea0535-189d-475e-c9b0-fb6799635b7e"
      },
      "execution_count": 9,
      "outputs": [
        {
          "output_type": "stream",
          "name": "stdout",
          "text": [
            "--> Count of missing values per column: \n",
            "\n",
            "distid          0\n",
            "schid           0\n",
            "lunch         303\n",
            "enrol         169\n",
            "exppp         937\n",
            "math4         103\n",
            "year            0\n",
            "y93             0\n",
            "y94             0\n",
            "y95             0\n",
            "y96             0\n",
            "y97             0\n",
            "y98             0\n",
            "rexpp         937\n",
            "found        3556\n",
            "lenrol        169\n",
            "lrexpp        937\n",
            "lavgrexpp    3151\n",
            "dtype: int64\n"
          ]
        }
      ]
    },
    {
      "cell_type": "code",
      "source": [
        "# Drop rows with missing values in column 'distid'\n",
        "\n",
        "df[\"distid\"].dropna(axis = 0)"
      ],
      "metadata": {
        "id": "MtBnt8l-R6Ai",
        "colab": {
          "base_uri": "https://localhost:8080/",
          "height": 489
        },
        "outputId": "2f158e8d-f98d-47cc-ef73-9a58dc200f1d"
      },
      "execution_count": 10,
      "outputs": [
        {
          "output_type": "execute_result",
          "data": {
            "text/plain": [
              "rownames\n",
              "1        34010\n",
              "2        34010\n",
              "3        34010\n",
              "4        34010\n",
              "5        34010\n",
              "         ...  \n",
              "10664    63200\n",
              "10665    63200\n",
              "10666    63200\n",
              "10667    63200\n",
              "10668    63200\n",
              "Name: distid, Length: 10668, dtype: int64"
            ],
            "text/html": [
              "<div>\n",
              "<style scoped>\n",
              "    .dataframe tbody tr th:only-of-type {\n",
              "        vertical-align: middle;\n",
              "    }\n",
              "\n",
              "    .dataframe tbody tr th {\n",
              "        vertical-align: top;\n",
              "    }\n",
              "\n",
              "    .dataframe thead th {\n",
              "        text-align: right;\n",
              "    }\n",
              "</style>\n",
              "<table border=\"1\" class=\"dataframe\">\n",
              "  <thead>\n",
              "    <tr style=\"text-align: right;\">\n",
              "      <th></th>\n",
              "      <th>distid</th>\n",
              "    </tr>\n",
              "    <tr>\n",
              "      <th>rownames</th>\n",
              "      <th></th>\n",
              "    </tr>\n",
              "  </thead>\n",
              "  <tbody>\n",
              "    <tr>\n",
              "      <th>1</th>\n",
              "      <td>34010</td>\n",
              "    </tr>\n",
              "    <tr>\n",
              "      <th>2</th>\n",
              "      <td>34010</td>\n",
              "    </tr>\n",
              "    <tr>\n",
              "      <th>3</th>\n",
              "      <td>34010</td>\n",
              "    </tr>\n",
              "    <tr>\n",
              "      <th>4</th>\n",
              "      <td>34010</td>\n",
              "    </tr>\n",
              "    <tr>\n",
              "      <th>5</th>\n",
              "      <td>34010</td>\n",
              "    </tr>\n",
              "    <tr>\n",
              "      <th>...</th>\n",
              "      <td>...</td>\n",
              "    </tr>\n",
              "    <tr>\n",
              "      <th>10664</th>\n",
              "      <td>63200</td>\n",
              "    </tr>\n",
              "    <tr>\n",
              "      <th>10665</th>\n",
              "      <td>63200</td>\n",
              "    </tr>\n",
              "    <tr>\n",
              "      <th>10666</th>\n",
              "      <td>63200</td>\n",
              "    </tr>\n",
              "    <tr>\n",
              "      <th>10667</th>\n",
              "      <td>63200</td>\n",
              "    </tr>\n",
              "    <tr>\n",
              "      <th>10668</th>\n",
              "      <td>63200</td>\n",
              "    </tr>\n",
              "  </tbody>\n",
              "</table>\n",
              "<p>10668 rows × 1 columns</p>\n",
              "</div><br><label><b>dtype:</b> int64</label>"
            ]
          },
          "metadata": {},
          "execution_count": 10
        }
      ]
    },
    {
      "cell_type": "code",
      "source": [
        "# Drop rows with missing values in column 'schid'\n",
        "\n",
        "df[\"schid\"].dropna(axis = 0)"
      ],
      "metadata": {
        "id": "GPQqdbyMTZ8O",
        "colab": {
          "base_uri": "https://localhost:8080/",
          "height": 489
        },
        "outputId": "1c9cc1c5-5783-4e0a-aec4-77e052deeda2"
      },
      "execution_count": 11,
      "outputs": [
        {
          "output_type": "execute_result",
          "data": {
            "text/plain": [
              "rownames\n",
              "1           1\n",
              "2           1\n",
              "3           1\n",
              "4           1\n",
              "5           1\n",
              "         ... \n",
              "10664    7725\n",
              "10665    7725\n",
              "10666    7725\n",
              "10667    7725\n",
              "10668    7725\n",
              "Name: schid, Length: 10668, dtype: int64"
            ],
            "text/html": [
              "<div>\n",
              "<style scoped>\n",
              "    .dataframe tbody tr th:only-of-type {\n",
              "        vertical-align: middle;\n",
              "    }\n",
              "\n",
              "    .dataframe tbody tr th {\n",
              "        vertical-align: top;\n",
              "    }\n",
              "\n",
              "    .dataframe thead th {\n",
              "        text-align: right;\n",
              "    }\n",
              "</style>\n",
              "<table border=\"1\" class=\"dataframe\">\n",
              "  <thead>\n",
              "    <tr style=\"text-align: right;\">\n",
              "      <th></th>\n",
              "      <th>schid</th>\n",
              "    </tr>\n",
              "    <tr>\n",
              "      <th>rownames</th>\n",
              "      <th></th>\n",
              "    </tr>\n",
              "  </thead>\n",
              "  <tbody>\n",
              "    <tr>\n",
              "      <th>1</th>\n",
              "      <td>1</td>\n",
              "    </tr>\n",
              "    <tr>\n",
              "      <th>2</th>\n",
              "      <td>1</td>\n",
              "    </tr>\n",
              "    <tr>\n",
              "      <th>3</th>\n",
              "      <td>1</td>\n",
              "    </tr>\n",
              "    <tr>\n",
              "      <th>4</th>\n",
              "      <td>1</td>\n",
              "    </tr>\n",
              "    <tr>\n",
              "      <th>5</th>\n",
              "      <td>1</td>\n",
              "    </tr>\n",
              "    <tr>\n",
              "      <th>...</th>\n",
              "      <td>...</td>\n",
              "    </tr>\n",
              "    <tr>\n",
              "      <th>10664</th>\n",
              "      <td>7725</td>\n",
              "    </tr>\n",
              "    <tr>\n",
              "      <th>10665</th>\n",
              "      <td>7725</td>\n",
              "    </tr>\n",
              "    <tr>\n",
              "      <th>10666</th>\n",
              "      <td>7725</td>\n",
              "    </tr>\n",
              "    <tr>\n",
              "      <th>10667</th>\n",
              "      <td>7725</td>\n",
              "    </tr>\n",
              "    <tr>\n",
              "      <th>10668</th>\n",
              "      <td>7725</td>\n",
              "    </tr>\n",
              "  </tbody>\n",
              "</table>\n",
              "<p>10668 rows × 1 columns</p>\n",
              "</div><br><label><b>dtype:</b> int64</label>"
            ]
          },
          "metadata": {},
          "execution_count": 11
        }
      ]
    },
    {
      "cell_type": "code",
      "source": [
        "# Apply groupby based on 'distid' and transform to fill missing values with the group's mean\n",
        "\n",
        "for col in df.columns:\n",
        "    if col != 'distid':\n",
        "        df[col] = df.groupby('distid')[col].transform(lambda x: x.fillna(x.mean()))"
      ],
      "metadata": {
        "id": "Jd6JxQ4LaHdH"
      },
      "execution_count": 12,
      "outputs": []
    },
    {
      "cell_type": "code",
      "source": [
        "print(df.describe())"
      ],
      "metadata": {
        "colab": {
          "base_uri": "https://localhost:8080/"
        },
        "id": "eQCqQrE8mMWX",
        "outputId": "f29ec6df-a334-4402-c9a3-13a2d29cb9c4"
      },
      "execution_count": 14,
      "outputs": [
        {
          "output_type": "stream",
          "name": "stdout",
          "text": [
            "             distid         schid         lunch         enrol         exppp  \\\n",
            "count  10668.000000  10668.000000  10668.000000  10668.000000  10668.000000   \n",
            "mean   52873.061305   2963.074803     37.000730    417.555214   3788.639015   \n",
            "std    23938.765714   2009.157208     25.558720    165.990147    898.150275   \n",
            "min     1010.000000      1.000000      0.000000      7.000000    254.000000   \n",
            "25%    33070.000000   1306.000000     15.825000    307.750000   3208.750000   \n",
            "50%    56010.000000   2562.500000     32.939999    405.000000   3759.000000   \n",
            "75%    75100.000000   4421.000000     54.099998    506.000000   4254.000000   \n",
            "max    83070.000000   7725.000000    100.000000   1353.000000  13581.000000   \n",
            "\n",
            "              math4          year           y93           y94           y95  \\\n",
            "count  10668.000000  10668.000000  10668.000000  10668.000000  10668.000000   \n",
            "mean      58.374497   1995.500000      0.166667      0.166667      0.166667   \n",
            "std       21.621465      1.707905      0.372695      0.372695      0.372695   \n",
            "min        1.800000   1993.000000      0.000000      0.000000      0.000000   \n",
            "25%       43.099998   1994.000000      0.000000      0.000000      0.000000   \n",
            "50%       59.549999   1995.500000      0.000000      0.000000      0.000000   \n",
            "75%       75.000000   1997.000000      0.000000      0.000000      0.000000   \n",
            "max      100.000000   1998.000000      1.000000      1.000000      1.000000   \n",
            "\n",
            "                y96           y97           y98         rexpp         found  \\\n",
            "count  10668.000000  10668.000000  10668.000000  10668.000000  10668.000000   \n",
            "mean       0.166667      0.166667      0.166667   3907.464633   5829.744094   \n",
            "std        0.372695      0.372695      0.372695    856.297183   1047.389332   \n",
            "min        0.000000      0.000000      0.000000    282.124542   4200.000000   \n",
            "25%        0.000000      0.000000      0.000000   3357.304199   5170.000000   \n",
            "50%        0.000000      0.000000      0.000000   3849.340576   5600.500000   \n",
            "75%        0.000000      0.000000      0.000000   4331.703369   6046.250000   \n",
            "max        1.000000      1.000000      1.000000  14708.167969  10916.000000   \n",
            "\n",
            "             lenrol        lrexpp     lavgrexpp  \n",
            "count  10668.000000  10668.000000  10668.000000  \n",
            "mean       5.940682      8.246660      8.268964  \n",
            "std        0.479255      0.212609      0.176600  \n",
            "min        1.945910      5.642349      7.404839  \n",
            "25%        5.726848      8.118263      8.161567  \n",
            "50%        6.003887      8.254815      8.273255  \n",
            "75%        6.226537      8.372518      8.367761  \n",
            "max        7.210080      9.596158      9.397722  \n"
          ]
        }
      ]
    },
    {
      "cell_type": "code",
      "source": [
        "# Histogram for a single column\n",
        "df['lunch'].plot(kind='hist', bins=10, edgecolor='black')\n",
        "plt.title('Lunch')\n",
        "plt.show()\n",
        "\n",
        "# Boxplot\n",
        "df['lunch'].plot(kind='box')\n",
        "plt.title('Boxplot of Lunch')\n",
        "plt.show()"
      ],
      "metadata": {
        "id": "aBjOUFJImJmK"
      },
      "execution_count": null,
      "outputs": []
    },
    {
      "cell_type": "code",
      "source": [
        "# Histogram for a single column\n",
        "df['enrol'].plot(kind='hist', bins=10, edgecolor='black')\n",
        "plt.title('Lunch')\n",
        "plt.show()\n",
        "\n",
        "# Boxplot\n",
        "df['enrol'].plot(kind='box')\n",
        "plt.title('Boxplot of Lunch')\n",
        "plt.show()"
      ],
      "metadata": {
        "id": "m39PAUNmmuEJ"
      },
      "execution_count": null,
      "outputs": []
    },
    {
      "cell_type": "code",
      "source": [
        "# Histogram for a single column\n",
        "df['exppp'].plot(kind='hist', bins=10, edgecolor='black')\n",
        "plt.title('Lunch')\n",
        "plt.show()\n",
        "\n",
        "# Boxplot\n",
        "df['exppp'].plot(kind='box')\n",
        "plt.title('Boxplot of Lunch')\n",
        "plt.show()"
      ],
      "metadata": {
        "id": "5UJpzthjmxtv"
      },
      "execution_count": null,
      "outputs": []
    },
    {
      "cell_type": "code",
      "source": [
        "# Histogram for a single column\n",
        "df['math4'].plot(kind='hist', bins=10, edgecolor='black')\n",
        "plt.title('Lunch')\n",
        "plt.show()\n",
        "\n",
        "# Boxplot\n",
        "df['math4'].plot(kind='box')\n",
        "plt.title('Boxplot of Lunch')\n",
        "plt.show()"
      ],
      "metadata": {
        "id": "fZH8cQDKmya2"
      },
      "execution_count": null,
      "outputs": []
    },
    {
      "cell_type": "code",
      "source": [
        "# Histogram for a single column\n",
        "df['year'].plot(kind='hist', bins=10, edgecolor='black')\n",
        "plt.title('Lunch')\n",
        "plt.show()\n",
        "\n",
        "# Boxplot\n",
        "df['year'].plot(kind='box')\n",
        "plt.title('Boxplot of Lunch')\n",
        "plt.show()"
      ],
      "metadata": {
        "id": "F9fG7ozimy3c"
      },
      "execution_count": null,
      "outputs": []
    },
    {
      "cell_type": "code",
      "source": [
        "# Histogram for a single column\n",
        "df['lunch'].plot(kind='hist', bins=10, edgecolor='black')\n",
        "plt.title('Lunch')\n",
        "plt.show()\n",
        "\n",
        "# Boxplot\n",
        "df['lunch'].plot(kind='box')\n",
        "plt.title('Boxplot of Lunch')\n",
        "plt.show()"
      ],
      "metadata": {
        "id": "ulLRmKwjmzip"
      },
      "execution_count": null,
      "outputs": []
    },
    {
      "cell_type": "code",
      "source": [
        "# Histogram for a single column\n",
        "df['lunch'].plot(kind='hist', bins=10, edgecolor='black')\n",
        "plt.title('Lunch')\n",
        "plt.show()\n",
        "\n",
        "# Boxplot\n",
        "df['lunch'].plot(kind='box')\n",
        "plt.title('Boxplot of Lunch')\n",
        "plt.show()"
      ],
      "metadata": {
        "id": "i7evdQXJmz-x"
      },
      "execution_count": null,
      "outputs": []
    },
    {
      "cell_type": "code",
      "source": [
        "# Histogram for a single column\n",
        "df['lunch'].plot(kind='hist', bins=10, edgecolor='black')\n",
        "plt.title('Lunch')\n",
        "plt.show()\n",
        "\n",
        "# Boxplot\n",
        "df['lunch'].plot(kind='box')\n",
        "plt.title('Boxplot of Lunch')\n",
        "plt.show()"
      ],
      "metadata": {
        "id": "9MTm_Ke4m0jg"
      },
      "execution_count": null,
      "outputs": []
    }
  ]
}